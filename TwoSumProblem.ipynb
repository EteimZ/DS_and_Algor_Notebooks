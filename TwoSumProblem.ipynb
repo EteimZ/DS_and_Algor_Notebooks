{
 "cells": [
  {
   "cell_type": "markdown",
   "id": "5b2b217e-3f98-4508-8168-298624674d6d",
   "metadata": {},
   "source": [
    "# The two Sum problem"
   ]
  },
  {
   "cell_type": "markdown",
   "id": "ca84a03a-c162-4940-8379-cb67761a6190",
   "metadata": {},
   "source": [
    "A popular array problem is the two sum problem. The problem states that given an array find two numbers that their sum is equal to a target value. There are several ways of solving this using:\n",
    "- The naive approach\n",
    "- Two pointer technique\n",
    "- Hash maps "
   ]
  },
  {
   "cell_type": "code",
   "execution_count": 1,
   "id": "ce28db2a-a12e-4bc4-8c87-8f2570d62881",
   "metadata": {},
   "outputs": [],
   "source": [
    "array = [1,2,3,4,5]\n",
    "targetSum = 5"
   ]
  },
  {
   "cell_type": "markdown",
   "id": "6c826a17-b77f-4859-9021-86a50bc81d36",
   "metadata": {},
   "source": [
    "## The naive approach \n",
    "This technique involves using two **for loops** to iterate over the array to find the target sum. The time complexity for this method is $O(n^2)$ and space complexity of $O(1)$"
   ]
  },
  {
   "cell_type": "code",
   "execution_count": 2,
   "id": "5e5fa55d-2218-44d7-9d10-aa32f8ffa778",
   "metadata": {},
   "outputs": [],
   "source": [
    "def twoNumberSum(array, targetSum):\n",
    "    for i in range(len(array)):\n",
    "        for j in range(len(array)):\n",
    "            if array[i] + array[j] == targetSum and array[i] != array[j]:\n",
    "                return [array[i], array[j]]\n",
    "    return []\n"
   ]
  },
  {
   "cell_type": "code",
   "execution_count": 3,
   "id": "49bf27b0-70e8-41c9-bc12-9cfcfb0e203f",
   "metadata": {},
   "outputs": [
    {
     "data": {
      "text/plain": [
       "[1, 4]"
      ]
     },
     "execution_count": 3,
     "metadata": {},
     "output_type": "execute_result"
    }
   ],
   "source": [
    "twoNumberSum(array, targetSum)"
   ]
  },
  {
   "cell_type": "markdown",
   "id": "4df4607b-321d-466c-8499-632f4df8ae9e",
   "metadata": {},
   "source": [
    "## The two pointer technique"
   ]
  },
  {
   "cell_type": "markdown",
   "id": "448425c3-2cd8-423d-acc8-266b65efc4e8",
   "metadata": {},
   "source": [
    "This technique involves having two pointers one at the beginning of the array and one at the end of the array. If the value of both pointers is less than the target then move the left pointer to the right but if their is value is greater move the right pointer to the left.\n",
    "\n",
    "Time Complexity is $O(nlog(n))$ and space complexity is $O(1)$"
   ]
  },
  {
   "cell_type": "code",
   "execution_count": 4,
   "id": "3218112f-ace2-49f7-b59f-f661e8764e4a",
   "metadata": {},
   "outputs": [],
   "source": [
    "def pointerSum(arr, tar):\n",
    "    l = 0\n",
    "    r = len(arr) - 1\n",
    "    while l < r:\n",
    "        if arr[l] + arr[r] == tar:\n",
    "            return [ arr[l], arr[r] ]\n",
    "        if arr[l] + arr[r] < tar:\n",
    "            l += 1\n",
    "        if arr[l] + arr[r] > tar:\n",
    "            r -= 1\n",
    "            \n",
    "    return []"
   ]
  },
  {
   "cell_type": "code",
   "execution_count": 5,
   "id": "49ef16d5-d6dc-4fc3-a68d-eb130aa9194f",
   "metadata": {},
   "outputs": [
    {
     "data": {
      "text/plain": [
       "[1, 4]"
      ]
     },
     "execution_count": 5,
     "metadata": {},
     "output_type": "execute_result"
    }
   ],
   "source": [
    "pointerSum(array, targetSum)"
   ]
  },
  {
   "cell_type": "markdown",
   "id": "2c293f8b-8958-4d8b-9c7b-8630a5bab47a",
   "metadata": {},
   "source": [
    "## Hashmap technique"
   ]
  },
  {
   "cell_type": "markdown",
   "id": "343449be-2d1a-4095-a115-17224c7e64a6",
   "metadata": {},
   "source": [
    "This technique stores the array in a hash map then uses the constant look up capability of hash map data structure to find the the corresponding two sum numbers."
   ]
  },
  {
   "cell_type": "code",
   "execution_count": 6,
   "id": "cbea95bd-f76c-44f9-82a3-bbdeb2c2af0d",
   "metadata": {},
   "outputs": [],
   "source": [
    "def hashSum(arr, tar):\n",
    "    hashmap = {}\n",
    "    for i in range(len(arr)):\n",
    "        hashmap[i] = arr[i]\n",
    "        complement = tar - arr[i]\n",
    "        if complement in hashmap.values() and complement != arr[i]:\n",
    "            return [ arr[i], complement]\n",
    "    return []\n",
    "    \n",
    "    "
   ]
  },
  {
   "cell_type": "code",
   "execution_count": 7,
   "id": "580504b2-6b81-4525-8a39-d8e92b60467d",
   "metadata": {},
   "outputs": [
    {
     "data": {
      "text/plain": [
       "[3, 2]"
      ]
     },
     "execution_count": 7,
     "metadata": {},
     "output_type": "execute_result"
    }
   ],
   "source": [
    "hashSum(array, targetSum)"
   ]
  }
 ],
 "metadata": {
  "kernelspec": {
   "display_name": "Python 3",
   "language": "python",
   "name": "python3"
  },
  "language_info": {
   "codemirror_mode": {
    "name": "ipython",
    "version": 3
   },
   "file_extension": ".py",
   "mimetype": "text/x-python",
   "name": "python",
   "nbconvert_exporter": "python",
   "pygments_lexer": "ipython3",
   "version": "3.8.8"
  }
 },
 "nbformat": 4,
 "nbformat_minor": 5
}
