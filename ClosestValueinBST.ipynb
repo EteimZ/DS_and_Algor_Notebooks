{
 "cells": [
  {
   "cell_type": "markdown",
   "id": "22d9e453-ab1f-4464-9240-ec1d516ebeb2",
   "metadata": {},
   "source": [
    "# Find closest value in Binary Search Tree"
   ]
  },
  {
   "cell_type": "markdown",
   "id": "4b9e3b6d-94f3-4edb-9a11-d53c7ff20049",
   "metadata": {},
   "source": [
    "\n",
    "![alt text](./BST.jpg)"
   ]
  },
  {
   "cell_type": "markdown",
   "id": "e0c21d46-e756-475f-8004-29d83aa65539",
   "metadata": {},
   "source": [
    "**Binary Search Tree** is a sorted **[binary tree](https://en.wikipedia.org/wiki/Binary_tree)** meaning given a root node all the values to the left are less than it and all the values to the right are greater it. This property enables **[Binary Search](https://en.wikipedia.org/wiki/Binary_search_algorithm)** to be performed on the tree.\n",
    "\n",
    "Let exploit this capability, Given a **target value** let's find a number that is the closest to it in the tree. First we create our BST node which has a value and two pointers. One to the right and one to the left.\n",
    "\n"
   ]
  },
  {
   "cell_type": "code",
   "execution_count": 1,
   "id": "c01506ba-2e74-4d16-a78a-44dfc1dd0c93",
   "metadata": {},
   "outputs": [],
   "source": [
    "# A BST node\n",
    "class BST:\n",
    "    def __init__(self, value):\n",
    "        self.value = value\n",
    "        self.left = None\n",
    "        self.right = None"
   ]
  },
  {
   "cell_type": "markdown",
   "id": "6538844a-6fc3-4550-a9dc-158b4ef21d01",
   "metadata": {},
   "source": [
    "Now we create our tree by attaching our nodes together"
   ]
  },
  {
   "cell_type": "code",
   "execution_count": 2,
   "id": "73d9ca9a-fcdb-40ce-8e44-02ff9e5acb21",
   "metadata": {},
   "outputs": [],
   "source": [
    "#             7                   <-- Root Node\n",
    "#       5            12           <-- Depth One\n",
    "#    3     6     9        15      <-- Depth Two\n",
    "#  1   4       8   10  13    17   <-- Depth Three\n",
    "\n",
    "\n",
    "# Create the tree\n",
    "tree = BST(7)\n",
    "# depth one\n",
    "tree.right = BST(5)\n",
    "tree.left = BST(12)\n",
    "# Right node --> depth two\n",
    "tree.right.right = BST(15)\n",
    "tree.right.left = BST(9)\n",
    "\n",
    "# Right node --> depth three (right node)\n",
    "tree.right.right.right = BST(17)\n",
    "tree.right.right.left = BST(13)\n",
    "\n",
    "# Right node --> depth three (left node)\n",
    "tree.right.left.right = BST(10)\n",
    "tree.right.right.left = BST(8)\n",
    "\n",
    "# Left node --> depth two\n",
    "tree.left.right = BST(6)\n",
    "tree.left.left = BST(3)\n",
    "\n",
    "# Left node --> depth three (left node)\n",
    "tree.left.left.right = BST(4)\n",
    "tree.right.right.left = BST(1)"
   ]
  },
  {
   "cell_type": "markdown",
   "id": "ec3aad3a-fa0a-412f-bf5a-45cef2376f68",
   "metadata": {},
   "source": [
    "The Psuedo Code below is the solution to the problem. \n",
    "\n",
    "_Psuedo Code_:\n",
    "\n",
    "1. Assign the closest value to the root node.\n",
    "2. Check if |target - closest| > |target - tree's value|.\n",
    "   * If yes assign the tree's value as the closest value\n",
    "   * If no the continue using the closest value\n",
    "3. Check if the target's value > current tree's value \n",
    "   * If yes Go to the right subtree.\n",
    "   * If no move on.\n",
    "4. Check if the target's value < current tree's value \n",
    "   * If yes Go to the left subtree.\n",
    "   * If no move on.\n",
    "5. Check if there is are no sub trees left\n",
    "   * If yes return current closest value\n",
    "   * If no go back to step 2\n",
    "\n",
    "The Psuedo Code above can be implemented recursively or iteratively"
   ]
  },
  {
   "cell_type": "code",
   "execution_count": 6,
   "id": "6a641bcc-4eab-4d80-b048-7c1382fa6a51",
   "metadata": {},
   "outputs": [],
   "source": [
    "# Recursive solution\n",
    "closest = tree.value # Initial closest value is the root's value\n",
    "def findClosestValueInBstRecursive(tree, target, closest):\n",
    "    if tree is None:\n",
    "        return closest\n",
    "    if abs(target - closest) > abs(target - tree.value):\n",
    "        closest = tree.value\n",
    "    if target < tree.value:\n",
    "        return findClosestValueInBstRecursive(tree.left, target, closest)\n",
    "    elif target > tree.value:\n",
    "        return findClosestValueInBstRecursive(tree.right, target, closest)\n",
    "    else:\n",
    "        return closest"
   ]
  },
  {
   "cell_type": "code",
   "execution_count": 7,
   "id": "3969ebbb-8c9c-4ffd-9e03-6c9e177c41c6",
   "metadata": {},
   "outputs": [],
   "source": [
    "# Iterative solution\n",
    "def findClosestValueInBstIterative(tree, target, closest):\n",
    "\tcurrentNode = tree\n",
    "\twhile currentNode is not None:\n",
    "\t\tif abs(target - closest) > abs(target - currentNode.value):\n",
    "\t\t\tclosest = currentNode.value\n",
    "\t\tif target < currentNode.value:\n",
    "\t\t\tcurrentNode = currentNode.left\n",
    "\t\telif target > currentNode.value:\n",
    "\t\t\tcurrentNode = currentNode.right\n",
    "\t\telse:\n",
    "\t\t\tbreak\n",
    "\treturn closest"
   ]
  },
  {
   "cell_type": "markdown",
   "id": "abe922a6-4ccc-468c-8d01-65530e728121",
   "metadata": {},
   "source": [
    "Now time to test both solutions given the value of **14** find its closest value within the tree defined earlier."
   ]
  },
  {
   "cell_type": "code",
   "execution_count": 8,
   "id": "fa4c7225-1e40-400a-862b-60570b816bea",
   "metadata": {},
   "outputs": [
    {
     "data": {
      "text/plain": [
       "15"
      ]
     },
     "execution_count": 8,
     "metadata": {},
     "output_type": "execute_result"
    }
   ],
   "source": [
    "tar = 14\n",
    "findClosestValueInBstRecursive(tree, tar, closest)"
   ]
  },
  {
   "cell_type": "code",
   "execution_count": 9,
   "id": "52410000-9868-4938-9352-d68680854b7d",
   "metadata": {},
   "outputs": [
    {
     "data": {
      "text/plain": [
       "15"
      ]
     },
     "execution_count": 9,
     "metadata": {},
     "output_type": "execute_result"
    }
   ],
   "source": [
    "tar = 14\n",
    "findClosestValueInBstIterative(tree, tar, closest)"
   ]
  },
  {
   "cell_type": "markdown",
   "id": "2855cd4a-f465-4142-8c73-ff6615fd87bc",
   "metadata": {},
   "source": [
    "Both solutions arrived at the same answer **15** which just happens to be the closest value in the tree."
   ]
  },
  {
   "cell_type": "code",
   "execution_count": null,
   "id": "8988a44e-355d-49ad-8475-24d817761a6d",
   "metadata": {},
   "outputs": [],
   "source": []
  }
 ],
 "metadata": {
  "kernelspec": {
   "display_name": "Python 3",
   "language": "python",
   "name": "python3"
  },
  "language_info": {
   "codemirror_mode": {
    "name": "ipython",
    "version": 3
   },
   "file_extension": ".py",
   "mimetype": "text/x-python",
   "name": "python",
   "nbconvert_exporter": "python",
   "pygments_lexer": "ipython3",
   "version": "3.8.8"
  }
 },
 "nbformat": 4,
 "nbformat_minor": 5
}
